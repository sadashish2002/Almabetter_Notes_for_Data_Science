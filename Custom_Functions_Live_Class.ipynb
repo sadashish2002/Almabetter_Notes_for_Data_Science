{
  "nbformat": 4,
  "nbformat_minor": 0,
  "metadata": {
    "colab": {
      "provenance": [],
      "collapsed_sections": [
        "BMTPNLgaMXM_",
        "yT9eLw4YqqRW",
        "EG5btUz0OA3Y",
        "XX9n6caJQH1_"
      ],
      "include_colab_link": true
    },
    "kernelspec": {
      "name": "python3",
      "display_name": "Python 3"
    },
    "language_info": {
      "name": "python"
    }
  },
  "cells": [
    {
      "cell_type": "markdown",
      "metadata": {
        "id": "view-in-github",
        "colab_type": "text"
      },
      "source": [
        "<a href=\"https://colab.research.google.com/github/sadashish2002/Almabetter_Notes_for_Data_Science/blob/main/Custom_Functions_Live_Class.ipynb\" target=\"_parent\"><img src=\"https://colab.research.google.com/assets/colab-badge.svg\" alt=\"Open In Colab\"/></a>"
      ]
    },
    {
      "cell_type": "code",
      "source": [
        "list_name = [\"Ravi\", \"Ashish\", \"Dheeraj\", \"Sonali\", \"Divya\"]\n",
        "\n",
        "for index, value in enumerate(list_name):\n",
        "  print(\"Index is - \" + str(index) + \". Value is - \" + value + \".\")\n",
        ""
      ],
      "metadata": {
        "colab": {
          "base_uri": "https://localhost:8080/"
        },
        "id": "DkhL_RoZBkXw",
        "outputId": "fea981eb-6d91-4649-bab7-3337d3c74b59"
      },
      "execution_count": 2,
      "outputs": [
        {
          "output_type": "stream",
          "name": "stdout",
          "text": [
            "Index is - 0. Value is - Ravi.\n",
            "Index is - 1. Value is - Ashish.\n",
            "Index is - 2. Value is - Dheeraj.\n",
            "Index is - 3. Value is - Sonali.\n",
            "Index is - 4. Value is - Divya.\n"
          ]
        }
      ]
    },
    {
      "cell_type": "code",
      "source": [
        "list(enumerate(list_name))"
      ],
      "metadata": {
        "colab": {
          "base_uri": "https://localhost:8080/"
        },
        "id": "GdLQJmTsDMRG",
        "outputId": "52b4c07c-b4a8-428d-ce05-aff9dce20b75"
      },
      "execution_count": null,
      "outputs": [
        {
          "output_type": "execute_result",
          "data": {
            "text/plain": [
              "[(0, 'Ravi'), (1, 'Ashish'), (2, 'Dheeraj'), (3, 'Sonali'), (4, 'Divya')]"
            ]
          },
          "metadata": {},
          "execution_count": 2
        }
      ]
    },
    {
      "cell_type": "code",
      "source": [],
      "metadata": {
        "id": "2tE9jNb9DMKz"
      },
      "execution_count": null,
      "outputs": []
    },
    {
      "cell_type": "markdown",
      "source": [
        "# **👨🏻‍🎓 Learning Objective 👨🏻‍🎓**"
      ],
      "metadata": {
        "id": "BMTPNLgaMXM_"
      }
    },
    {
      "cell_type": "markdown",
      "source": [
        "###**Introduction**\n",
        "👋 Welcome, students! Today, we'll be diving into the exciting world of custom functions! 💻🤖 Functions are like building blocks in programming, and mastering them is essential for writing efficient and reusable code. In this lesson, we'll cover how to define your own custom functions in Python, how to pass arguments to them, and how to return values. We'll also explore best practices for designing and naming functions, as well as some common pitfalls to avoid. By the end of this lesson, you'll have a solid understanding of functions and be ready to start creating your own custom functions! 🔧💪🚀\n",
        "\n",
        "\n",
        "* Class Duration: 2 hour\n",
        "* Assignment Duration: 1 hour\n",
        "* Focus: Custom functions, scope of functions, Introduction to Recursion\n",
        "\n",
        "\n",
        "###**Primary Goals**\n",
        "\n",
        "* Understand the concept of custom functions and their importance in programming. 💻🤖\n",
        "* Learn how to define and call custom functions in Python. 🔧💪\n",
        "* Understand how to pass arguments to custom functions and return values. 🔍👀\n",
        "* Explore best practices for designing and naming custom functions. 📏📝\n",
        "* Identify and avoid common pitfalls when working with custom functions. 🚫💣\n",
        "* Apply your newfound knowledge to create your own custom functions! 🚀👨‍💻\n",
        "\n",
        "\n",
        "\n",
        "\n",
        "\n",
        "\n",
        "\n",
        "\n",
        "\n",
        "\n",
        "\n"
      ],
      "metadata": {
        "id": "hQVMGQLeMdv0"
      }
    },
    {
      "cell_type": "markdown",
      "source": [
        "# **📖 Learning Material 📖**"
      ],
      "metadata": {
        "id": "yT9eLw4YqqRW"
      }
    },
    {
      "cell_type": "markdown",
      "source": [
        "Today's lesson is all about Custom Functions in programming. Custom functions are user-defined functions in a programming language that allow developers to encapsulate a block of code with a specific functionality, which can be called repeatedly throughout their programs.\n",
        "\n",
        "🔍🔪 We'll dive into using Custom Functions of Python and play a critical role in programming.\n",
        "\n",
        "🔢🍴 By the end of this lesson, you'll have a solid grasp of how to utilize Loops and iterations in your code.\n",
        "\n",
        "🚀 So, let's get started and learn these essential skills!"
      ],
      "metadata": {
        "id": "lyJTvCn42Qxg"
      }
    },
    {
      "cell_type": "markdown",
      "source": [
        "##**Introduction to Custom Functions**"
      ],
      "metadata": {
        "id": "AUiIsQg9Ucrl"
      }
    },
    {
      "cell_type": "markdown",
      "source": [
        "👋 Hi there! Custom functions 🛠️ are blocks of code created by programmers to perform specific tasks or operations within a program. They can be created in most programming languages and are often used to simplify and modularize code by separating out specific functions that can be called upon multiple times within the program.\n",
        "\n",
        "A custom function 🧰 can be designed to take one or more input parameters 🎛️, which can be used to customize its behavior. These parameters allow the function to be called with different arguments, enabling it to perform the same operation on different sets of data 📊. The output of a function can also be customized, allowing it to return specific results based on its inputs.\n",
        "\n",
        "One of the main advantages of custom functions is that they can be reused ♻️ throughout a program or even across multiple programs 🌐. This reduces the amount of code that needs to be written, which can save time and effort 💪. Custom functions also make code easier to read and understand because they encapsulate complex operations in a single function with a clear name and purpose 🤓.\n",
        "\n",
        "Custom functions are widely used in programming tasks such as data processing, mathematical calculations 🧮, and user interface design 🖥️. They are an essential tool 🔧 for any programmer looking to write efficient and maintainable code.\n"
      ],
      "metadata": {
        "id": "tIkNz0CnU0Nr"
      }
    },
    {
      "cell_type": "markdown",
      "source": [
        "###Let's break down the syntax:"
      ],
      "metadata": {
        "id": "IFRQ_hhcX3Ut"
      }
    },
    {
      "cell_type": "markdown",
      "source": [
        "**In Python, you can create your own functions using the def keyword. Here is the basic syntax for defining a function:**"
      ],
      "metadata": {
        "id": "OMBq6vqFXrkm"
      }
    },
    {
      "cell_type": "code",
      "source": [
        "def function_name(parameters :\"Parameter Hints\" = \"Default Parameter Value\"):\n",
        "  \"\"\"\n",
        "  Docstring\n",
        "\n",
        "  \"\"\"\n",
        "\n",
        "    # function code goes here\n",
        "  return output_value\n",
        "\n",
        "\n",
        ""
      ],
      "metadata": {
        "id": "9tz72ZVeXypT"
      },
      "execution_count": 3,
      "outputs": []
    },
    {
      "cell_type": "markdown",
      "source": [
        "* **def**: This keyword indicates the start of a function definition. It stands for \"define\"\n",
        "\n",
        "\n",
        "\n",
        "* **Function_name**: This is the name of the function you are defining.\n",
        "\n",
        "* **Parameters**: These are the input values that the function will take. They are optional, and you can have as many or as few as you need.\n",
        "\n",
        "* **Parameter Hints** : Pressing \"Shift+Tab\" while calling a function will display the parameter hints that were initially defined.\n",
        "\n",
        "* **Default Parameter Value** : If a value is not provided when calling a function, this value will be used instead.\n",
        "\n",
        "* **Docstring** : A docstring is a string literal that appears as the first statement in a module, function, class, or method definition. Its purpose is to provide documentation for the code and to describe what the function does, what arguments it takes, and what it returns.\n",
        "\n",
        "* **Function code** : This is the code that gets executed when the function is called. It can be any valid Python code.\n",
        "\n",
        "* **return**: This keyword indicates the value that the function will return. This is also optional, and you can have multiple return statements in a function."
      ],
      "metadata": {
        "id": "NYBDZzhoYELE"
      }
    },
    {
      "cell_type": "code",
      "source": [
        "#sum of two numbers\n",
        "\n",
        "x1 = 10\n",
        "y1 = 20\n",
        "result1 = x1 + y1\n",
        "print(result1)\n",
        "\n",
        "x2 = 100\n",
        "y2 = 200\n",
        "result2 = x2 + y2\n",
        "print(result2)\n",
        "\n",
        "x3 = 1000\n",
        "y3 = 2000\n",
        "result3 = x3 + y3\n",
        "print(result3)"
      ],
      "metadata": {
        "colab": {
          "base_uri": "https://localhost:8080/"
        },
        "id": "9FcPWF2aCCfl",
        "outputId": "04aca63f-23dc-4f68-eab3-4f632866123a"
      },
      "execution_count": 1,
      "outputs": [
        {
          "output_type": "stream",
          "name": "stdout",
          "text": [
            "30\n",
            "300\n",
            "3000\n"
          ]
        }
      ]
    },
    {
      "cell_type": "code",
      "source": [
        "def sum_of_two_numbers(num1 = 1,num2 = 2):\n",
        "  \"\"\"\n",
        "  Defintion : This function take two number as input and\n",
        "              retrun output as sum to those two numbers\n",
        "  Parameters:\n",
        "    num1: First Number\n",
        "    num2: Sesond Number\n",
        "  Output:\n",
        "    result: Sum of two numbers\n",
        "  \"\"\"\n",
        "\n",
        "  result = num1 + num2\n",
        "  return result"
      ],
      "metadata": {
        "id": "yZE-4oiGHAbP"
      },
      "execution_count": 2,
      "outputs": []
    },
    {
      "cell_type": "code",
      "source": [
        "sum_of_two_numbers()"
      ],
      "metadata": {
        "id": "xZ5uE6kmLGG_",
        "outputId": "379ccdf0-baae-4939-fb94-5d0985578590",
        "colab": {
          "base_uri": "https://localhost:8080/"
        }
      },
      "execution_count": 3,
      "outputs": [
        {
          "output_type": "execute_result",
          "data": {
            "text/plain": [
              "3"
            ]
          },
          "metadata": {},
          "execution_count": 3
        }
      ]
    },
    {
      "cell_type": "code",
      "source": [
        "sum_of_two_numbers()"
      ],
      "metadata": {
        "colab": {
          "base_uri": "https://localhost:8080/"
        },
        "id": "6gV-SDHoIDO7",
        "outputId": "23edc120-6b8a-4a2b-9c22-f9b8c1ba2ef6"
      },
      "execution_count": 4,
      "outputs": [
        {
          "output_type": "execute_result",
          "data": {
            "text/plain": [
              "3"
            ]
          },
          "metadata": {},
          "execution_count": 4
        }
      ]
    },
    {
      "cell_type": "code",
      "source": [
        "sum_of_two_numbers(20)"
      ],
      "metadata": {
        "colab": {
          "base_uri": "https://localhost:8080/"
        },
        "id": "y2Kk0W5eJTvF",
        "outputId": "aeb2fd7b-b0a3-4a62-a116-7fa6aa0893d9"
      },
      "execution_count": 5,
      "outputs": [
        {
          "output_type": "execute_result",
          "data": {
            "text/plain": [
              "22"
            ]
          },
          "metadata": {},
          "execution_count": 5
        }
      ]
    },
    {
      "cell_type": "code",
      "source": [
        "sum_of_two_numbers(20,30)"
      ],
      "metadata": {
        "colab": {
          "base_uri": "https://localhost:8080/"
        },
        "id": "PNjm7S48JWrK",
        "outputId": "f23ab52c-8751-441f-98d5-de42e95d16ab"
      },
      "execution_count": 6,
      "outputs": [
        {
          "output_type": "execute_result",
          "data": {
            "text/plain": [
              "50"
            ]
          },
          "metadata": {},
          "execution_count": 6
        }
      ]
    },
    {
      "cell_type": "code",
      "source": [
        "sum = sum_of_two_numbers(20,30)"
      ],
      "metadata": {
        "id": "PSPcNnT9Jazj"
      },
      "execution_count": 7,
      "outputs": []
    },
    {
      "cell_type": "code",
      "source": [
        "sum"
      ],
      "metadata": {
        "colab": {
          "base_uri": "https://localhost:8080/"
        },
        "id": "KGoQsBEEJds8",
        "outputId": "5e21bf94-0193-460c-bc27-2132c630a2ec"
      },
      "execution_count": 8,
      "outputs": [
        {
          "output_type": "execute_result",
          "data": {
            "text/plain": [
              "50"
            ]
          },
          "metadata": {},
          "execution_count": 8
        }
      ]
    },
    {
      "cell_type": "code",
      "source": [
        "sum_of_number = sum_of_two_numbers(100,200)"
      ],
      "metadata": {
        "id": "BIWVM02EJvrq"
      },
      "execution_count": 9,
      "outputs": []
    },
    {
      "cell_type": "code",
      "source": [
        "sum_of_number"
      ],
      "metadata": {
        "colab": {
          "base_uri": "https://localhost:8080/"
        },
        "id": "_syqC2kSJ11C",
        "outputId": "a63ed001-0058-42dd-a797-b7c9c2bb80ee"
      },
      "execution_count": 10,
      "outputs": [
        {
          "output_type": "execute_result",
          "data": {
            "text/plain": [
              "300"
            ]
          },
          "metadata": {},
          "execution_count": 10
        }
      ]
    },
    {
      "cell_type": "code",
      "source": [
        "sum_of_number + 200"
      ],
      "metadata": {
        "colab": {
          "base_uri": "https://localhost:8080/"
        },
        "id": "yyPN530UKG0E",
        "outputId": "39b2a8d7-1daa-4d9a-ba7b-93880f9c2b7e"
      },
      "execution_count": 11,
      "outputs": [
        {
          "output_type": "execute_result",
          "data": {
            "text/plain": [
              "500"
            ]
          },
          "metadata": {},
          "execution_count": 11
        }
      ]
    },
    {
      "cell_type": "code",
      "source": [
        "sum_of_number"
      ],
      "metadata": {
        "colab": {
          "base_uri": "https://localhost:8080/"
        },
        "id": "ydG15ARaKULr",
        "outputId": "d829bcc8-9893-4541-bae1-f470452af3ec"
      },
      "execution_count": 12,
      "outputs": [
        {
          "output_type": "execute_result",
          "data": {
            "text/plain": [
              "300"
            ]
          },
          "metadata": {},
          "execution_count": 12
        }
      ]
    },
    {
      "cell_type": "code",
      "source": [
        "sum_of_two_numbers(100,200) + 200"
      ],
      "metadata": {
        "colab": {
          "base_uri": "https://localhost:8080/"
        },
        "id": "dWBkQRZ-L757",
        "outputId": "1fb48a37-d3a5-42cb-c58c-3aa983f8d6fd"
      },
      "execution_count": 13,
      "outputs": [
        {
          "output_type": "execute_result",
          "data": {
            "text/plain": [
              "500"
            ]
          },
          "metadata": {},
          "execution_count": 13
        }
      ]
    },
    {
      "cell_type": "code",
      "source": [
        "def sum_of_two_integers(num1 = 10, num2 = 20):\n",
        "  '''\n",
        "  This funtion is going to add two number\n",
        "  Input Parameter:\n",
        "    num1 = First Integer\n",
        "    num2 = Second Integer\n",
        "  Output:\n",
        "    result = Sum of num1 and num2\n",
        "  '''\n",
        "  result = num1 + num2\n",
        "  return result"
      ],
      "metadata": {
        "id": "jNfJPsYxDBKm"
      },
      "execution_count": 15,
      "outputs": []
    },
    {
      "cell_type": "code",
      "source": [
        "sum_of_two_numbers = sum_of_two_integers(100,200)"
      ],
      "metadata": {
        "id": "hn_UJEwLEcml"
      },
      "execution_count": 16,
      "outputs": []
    },
    {
      "cell_type": "code",
      "source": [
        "sum_of_two_numbers"
      ],
      "metadata": {
        "id": "r9PRkhqgGHEI",
        "outputId": "82a11d6f-6a07-4bdd-f9a2-b35902b2c3a9",
        "colab": {
          "base_uri": "https://localhost:8080/"
        }
      },
      "execution_count": 17,
      "outputs": [
        {
          "output_type": "execute_result",
          "data": {
            "text/plain": [
              "300"
            ]
          },
          "metadata": {},
          "execution_count": 17
        }
      ]
    },
    {
      "cell_type": "code",
      "source": [
        "print(sum_of_two_numbers)"
      ],
      "metadata": {
        "colab": {
          "base_uri": "https://localhost:8080/"
        },
        "id": "29j_xdOvE_ks",
        "outputId": "3791cc84-8831-4a64-deb9-127867654bbe"
      },
      "execution_count": 18,
      "outputs": [
        {
          "output_type": "stream",
          "name": "stdout",
          "text": [
            "300\n"
          ]
        }
      ]
    },
    {
      "cell_type": "code",
      "source": [
        "type(sum_of_two_numbers)"
      ],
      "metadata": {
        "colab": {
          "base_uri": "https://localhost:8080/"
        },
        "id": "IuF9nxGvFeR8",
        "outputId": "1c9b015c-964c-4421-93f7-1f442ce1a8bb"
      },
      "execution_count": 19,
      "outputs": [
        {
          "output_type": "execute_result",
          "data": {
            "text/plain": [
              "int"
            ]
          },
          "metadata": {},
          "execution_count": 19
        }
      ]
    },
    {
      "cell_type": "code",
      "source": [
        "sum_of_two_numbers + 500"
      ],
      "metadata": {
        "colab": {
          "base_uri": "https://localhost:8080/"
        },
        "id": "ZzW7jUaPFCZe",
        "outputId": "c82a7bf9-abb6-4aea-fcb7-551a42befa22"
      },
      "execution_count": 20,
      "outputs": [
        {
          "output_type": "execute_result",
          "data": {
            "text/plain": [
              "800"
            ]
          },
          "metadata": {},
          "execution_count": 20
        }
      ]
    },
    {
      "cell_type": "markdown",
      "source": [
        "###Real-Time Application"
      ],
      "metadata": {
        "id": "x5Nd7_pDWmiq"
      }
    },
    {
      "cell_type": "markdown",
      "source": [
        "Imagine that you are the manager of a coffee shop ☕️ and you need to keep track of your sales for each day of the week. However, you don't want to manually enter the sales data for each day because it's time-consuming and prone to errors.\n",
        "\n",
        "So, you decide to create a custom function 📊 that automatically calculates the total sales for each day of the week. You start by defining the function name, let's call it \"calculate_sales\", and specifying the inputs required, which are the sales figures for each day.\n",
        "\n",
        "Then, you write the code for the function to sum up the sales figures and return the total. You can also add some conditional statements to handle errors or special cases, such as if there are no sales on a particular day.\n",
        "\n",
        "Now, every time you enter the sales figures for a day, you can simply use the \"calculate_sales\" function to get the total for that day. This saves you time and reduces the risk of errors. 🙌"
      ],
      "metadata": {
        "id": "Hww_Pm91Wur0"
      }
    },
    {
      "cell_type": "code",
      "source": [
        "\n",
        "def calculate_sales(monday_sales=0, tuesday_sales=0, wednesday_sales=0, thursday_sales=0, friday_sales=0, saturday_sales=0, sunday_sales=0):\n",
        "    \"\"\"\n",
        "    Calculates the total sales for a given week by adding up the sales for each day of the week.\n",
        "\n",
        "    Args:\n",
        "        monday_sales (float): Sales figure for Monday.\n",
        "        tuesday_sales (float): Sales figure for Tuesday.\n",
        "        wednesday_sales (float): Sales figure for Wednesday.\n",
        "        thursday_sales (float): Sales figure for Thursday.\n",
        "        friday_sales (float): Sales figure for Friday.\n",
        "        saturday_sales (float): Sales figure for Saturday.\n",
        "        sunday_sales (float): Sales figure for Sunday.\n",
        "\n",
        "    Returns:\n",
        "        float: The total sales for the week.\n",
        "    \"\"\"\n",
        "    # Sum up the sales figures for each day of the week\n",
        "    total_sales = monday_sales + tuesday_sales + wednesday_sales + thursday_sales + friday_sales + saturday_sales + sunday_sales\n",
        "\n",
        "    # Return the total sales\n",
        "    return total_sales\n",
        "\n"
      ],
      "metadata": {
        "id": "2GY2yF7lTDTh"
      },
      "execution_count": 23,
      "outputs": []
    },
    {
      "cell_type": "code",
      "source": [
        "total_sales_for_a_week = calculate_sales(monday_sales = 100,  wednesday_sales=150, tuesday_sales = 200, thursday_sales=300, friday_sales=250, saturday_sales=180, sunday_sales=150)\n",
        "print(total_sales_for_a_week)\n"
      ],
      "metadata": {
        "colab": {
          "base_uri": "https://localhost:8080/"
        },
        "id": "uqtZl0GGUBqX",
        "outputId": "4f5065ed-8083-4dc8-c3cd-678b1fabf02c"
      },
      "execution_count": 24,
      "outputs": [
        {
          "output_type": "stream",
          "name": "stdout",
          "text": [
            "1330\n"
          ]
        }
      ]
    },
    {
      "cell_type": "code",
      "source": [
        "total_sales_for_a_week = calculate_sales(100,200,300,400,500,600,700)\n",
        "print(total_sales_for_a_week)"
      ],
      "metadata": {
        "colab": {
          "base_uri": "https://localhost:8080/"
        },
        "id": "osZCQuIpNWy2",
        "outputId": "683d94ab-8286-4227-cd28-3b501ca4eee0"
      },
      "execution_count": 29,
      "outputs": [
        {
          "output_type": "stream",
          "name": "stdout",
          "text": [
            "2800\n"
          ]
        }
      ]
    },
    {
      "cell_type": "code",
      "source": [
        "def sum(num1,num2):\n",
        "  result = num1 + num2\n",
        "  return result\n",
        "\n",
        "a= int(input(\"Enter first number:\"))\n",
        "b= int(input(\"Enter second number:\"))\n",
        "sum(a,b)\n",
        "print(sum(a,b))"
      ],
      "metadata": {
        "colab": {
          "base_uri": "https://localhost:8080/"
        },
        "id": "hyrtulaoIlzj",
        "outputId": "a102c7ea-cd46-4be1-e528-2eac7c9b8162"
      },
      "execution_count": 32,
      "outputs": [
        {
          "output_type": "stream",
          "name": "stdout",
          "text": [
            "Enter first number:123\n",
            "Enter second number:3213\n",
            "3336\n"
          ]
        }
      ]
    },
    {
      "cell_type": "markdown",
      "source": [
        "###Now let's work around a few problems to help you to strengthen the concepts you learned."
      ],
      "metadata": {
        "id": "1a0eYCcsay13"
      }
    },
    {
      "cell_type": "markdown",
      "source": [
        "##**Activity 1:**"
      ],
      "metadata": {
        "id": "3N4pFPooXXOY"
      }
    },
    {
      "cell_type": "markdown",
      "source": [
        "Write a program which would calculate the count of each unique characters in a words and returns an appropriate dictionary. Use a custom function to achieve this.\n",
        "\n",
        "word = \"Custom Function\""
      ],
      "metadata": {
        "id": "xEAp0llDZKp-"
      }
    },
    {
      "cell_type": "code",
      "source": [
        "word = \"Custom Function\"\n",
        "char_count = {}\n",
        "for char in word:\n",
        "    if char in char_count:\n",
        "        char_count[char] += 1\n",
        "    else:\n",
        "        char_count[char] = 1\n",
        "\n",
        "print(char_count)"
      ],
      "metadata": {
        "colab": {
          "base_uri": "https://localhost:8080/"
        },
        "id": "sI5c9lv-JntM",
        "outputId": "542f46fb-5c4b-4766-a81b-eda686856b8f"
      },
      "execution_count": 33,
      "outputs": [
        {
          "output_type": "stream",
          "name": "stdout",
          "text": [
            "{'C': 1, 'u': 2, 's': 1, 't': 2, 'o': 2, 'm': 1, ' ': 1, 'F': 1, 'n': 2, 'c': 1, 'i': 1}\n"
          ]
        }
      ]
    },
    {
      "cell_type": "code",
      "source": [
        "def count_letters(word):\n",
        "    \"\"\"\n",
        "    Counts the frequency of each letter in a given word and returns a dictionary with the letter counts.\n",
        "\n",
        "    Args:\n",
        "        word (str): The word to count the letters in.\n",
        "\n",
        "    Returns:\n",
        "        dict: A dictionary containing the count of each letter in the word.\n",
        "    \"\"\"\n",
        "    char_count = {}\n",
        "    for char in word:\n",
        "        if char in char_count:\n",
        "            char_count[char] += 1\n",
        "        else:\n",
        "            char_count[char] = 1\n",
        "    return char_count\n",
        "\n",
        "# Try out here\n",
        "sentence = \"Custom Function\"\n",
        "\n",
        "count_letters(sentence)\n"
      ],
      "metadata": {
        "id": "PKEO8mxwGEoi",
        "colab": {
          "base_uri": "https://localhost:8080/"
        },
        "outputId": "b9c8ac24-f44b-4990-bb80-ffb593354f3b"
      },
      "execution_count": 34,
      "outputs": [
        {
          "output_type": "execute_result",
          "data": {
            "text/plain": [
              "{'C': 1,\n",
              " 'u': 2,\n",
              " 's': 1,\n",
              " 't': 2,\n",
              " 'o': 2,\n",
              " 'm': 1,\n",
              " ' ': 1,\n",
              " 'F': 1,\n",
              " 'n': 2,\n",
              " 'c': 1,\n",
              " 'i': 1}"
            ]
          },
          "metadata": {},
          "execution_count": 34
        }
      ]
    },
    {
      "cell_type": "code",
      "source": [
        "count_letters(\"Apple\")"
      ],
      "metadata": {
        "colab": {
          "base_uri": "https://localhost:8080/"
        },
        "id": "m7deXM4aKNZf",
        "outputId": "1b6a9cac-bd13-4d63-e872-9c2514ef21ac"
      },
      "execution_count": null,
      "outputs": [
        {
          "output_type": "execute_result",
          "data": {
            "text/plain": [
              "{'A': 1, 'p': 2, 'l': 1, 'e': 1}"
            ]
          },
          "metadata": {},
          "execution_count": 24
        }
      ]
    },
    {
      "cell_type": "code",
      "source": [
        "count_letters(\"Almabetter\")"
      ],
      "metadata": {
        "colab": {
          "base_uri": "https://localhost:8080/"
        },
        "id": "IVxDe7ajKTF3",
        "outputId": "a4a3ab91-2e76-42ff-fe3c-82070f2bc03e"
      },
      "execution_count": null,
      "outputs": [
        {
          "output_type": "execute_result",
          "data": {
            "text/plain": [
              "{'A': 1, 'l': 1, 'm': 1, 'a': 1, 'b': 1, 'e': 2, 't': 2, 'r': 1}"
            ]
          },
          "metadata": {},
          "execution_count": 25
        }
      ]
    },
    {
      "cell_type": "code",
      "source": [
        "count_letters(\"My name is Ravi\")"
      ],
      "metadata": {
        "colab": {
          "base_uri": "https://localhost:8080/"
        },
        "id": "VSFyg3jWPZiE",
        "outputId": "b4c20ce5-c007-43d2-bdda-d14ec9db6091"
      },
      "execution_count": null,
      "outputs": [
        {
          "output_type": "execute_result",
          "data": {
            "text/plain": [
              "{'M': 1,\n",
              " 'y': 1,\n",
              " ' ': 3,\n",
              " 'n': 1,\n",
              " 'a': 2,\n",
              " 'm': 1,\n",
              " 'e': 1,\n",
              " 'i': 2,\n",
              " 's': 1,\n",
              " 'R': 1,\n",
              " 'v': 1}"
            ]
          },
          "metadata": {},
          "execution_count": 27
        }
      ]
    },
    {
      "cell_type": "markdown",
      "source": [
        "##**Global and Local Variables** 🌎\n"
      ],
      "metadata": {
        "id": "lW2qGy9yKIT9"
      }
    },
    {
      "cell_type": "markdown",
      "source": [
        "In Python, variables that are defined outside of a function are called global variables, while variables that are defined inside a function are called local variables. The scope of a variable refers to the area of the program where it can be accessed and used.\n",
        "\n",
        "Global variables can be accessed and modified by any part of the program, including within functions. However, local variables are only accessible within the function where they are defined.\n",
        "\n",
        "Here's an example to illustrate the concept of global and local variables in custom functions:"
      ],
      "metadata": {
        "id": "qSZ-dpLkKNB_"
      }
    },
    {
      "cell_type": "code",
      "source": [
        "# Defining a global variable\n",
        "global_var = 10\n",
        "\n",
        "def modify_global_var():\n",
        "    \"\"\"\n",
        "    Modifies the global variable by adding 5 to its current value.\n",
        "    \"\"\"\n",
        "    # Accessing the global variable\n",
        "    global global_var\n",
        "\n",
        "    # Modifying the global variable\n",
        "    global_var += 5\n",
        "\n",
        "def use_local_var():\n",
        "    \"\"\"\n",
        "    Prints the value of a local variable.\n",
        "    \"\"\"\n",
        "    # Defining a local variable\n",
        "    local_var = 20\n",
        "\n",
        "    # Printing the value of the local variable\n",
        "    print(\"Local variable value: \", local_var)\n",
        "\n",
        "# Calling the functions\n",
        "\n",
        "# Modifying the global variable using the modify_global_var function\n",
        "modify_global_var()\n",
        "\n",
        "# Printing the new value of the global variable\n",
        "print(\"Global variable value: \", global_var)\n",
        "\n",
        "# Using the use_local_var function to print the value of a local variable\n",
        "use_local_var()\n",
        "\n",
        "# print(local_var)\n"
      ],
      "metadata": {
        "colab": {
          "base_uri": "https://localhost:8080/"
        },
        "id": "Rtzu3oTSKTcE",
        "outputId": "64b68a7d-db05-4569-ed41-0d10894b0230"
      },
      "execution_count": 38,
      "outputs": [
        {
          "output_type": "stream",
          "name": "stdout",
          "text": [
            "Global variable value:  15\n",
            "Local variable value:  20\n"
          ]
        }
      ]
    },
    {
      "cell_type": "code",
      "source": [
        "print(local_var)"
      ],
      "metadata": {
        "colab": {
          "base_uri": "https://localhost:8080/",
          "height": 169
        },
        "id": "oDsuaUgeQdsd",
        "outputId": "9a6442ad-bdea-4c73-fbce-f11f2140d367"
      },
      "execution_count": 39,
      "outputs": [
        {
          "output_type": "error",
          "ename": "NameError",
          "evalue": "ignored",
          "traceback": [
            "\u001b[0;31m---------------------------------------------------------------------------\u001b[0m",
            "\u001b[0;31mNameError\u001b[0m                                 Traceback (most recent call last)",
            "\u001b[0;32m<ipython-input-39-3bfff76e6cd3>\u001b[0m in \u001b[0;36m<cell line: 1>\u001b[0;34m()\u001b[0m\n\u001b[0;32m----> 1\u001b[0;31m \u001b[0mprint\u001b[0m\u001b[0;34m(\u001b[0m\u001b[0mlocal_var\u001b[0m\u001b[0;34m)\u001b[0m\u001b[0;34m\u001b[0m\u001b[0;34m\u001b[0m\u001b[0m\n\u001b[0m",
            "\u001b[0;31mNameError\u001b[0m: name 'local_var' is not defined"
          ]
        }
      ]
    },
    {
      "cell_type": "code",
      "source": [
        "global_variable = 10\n",
        "\n",
        "def global_function():\n",
        "  global global_variable\n",
        "  global_variable = global_variable +10\n",
        "\n",
        "def local_function():\n",
        "  local_variable = 10\n",
        "  print(local_variable)"
      ],
      "metadata": {
        "id": "tlmU5NrQLiOr"
      },
      "execution_count": 40,
      "outputs": []
    },
    {
      "cell_type": "code",
      "source": [
        "global_function\n",
        "print(global_variable)"
      ],
      "metadata": {
        "colab": {
          "base_uri": "https://localhost:8080/"
        },
        "id": "yCeuPNoAQths",
        "outputId": "6cb9d09e-a3a2-4e1f-9322-2a4e4ac28bd9"
      },
      "execution_count": 41,
      "outputs": [
        {
          "output_type": "stream",
          "name": "stdout",
          "text": [
            "10\n"
          ]
        }
      ]
    },
    {
      "cell_type": "code",
      "source": [
        "local_variable"
      ],
      "metadata": {
        "colab": {
          "base_uri": "https://localhost:8080/",
          "height": 169
        },
        "id": "gNQnwVB_L7iY",
        "outputId": "704eafcd-efca-4786-dfe1-1e6c5264e5d4"
      },
      "execution_count": 42,
      "outputs": [
        {
          "output_type": "error",
          "ename": "NameError",
          "evalue": "ignored",
          "traceback": [
            "\u001b[0;31m---------------------------------------------------------------------------\u001b[0m",
            "\u001b[0;31mNameError\u001b[0m                                 Traceback (most recent call last)",
            "\u001b[0;32m<ipython-input-42-ffb5b39c1381>\u001b[0m in \u001b[0;36m<cell line: 1>\u001b[0;34m()\u001b[0m\n\u001b[0;32m----> 1\u001b[0;31m \u001b[0mlocal_variable\u001b[0m\u001b[0;34m\u001b[0m\u001b[0;34m\u001b[0m\u001b[0m\n\u001b[0m",
            "\u001b[0;31mNameError\u001b[0m: name 'local_variable' is not defined"
          ]
        }
      ]
    },
    {
      "cell_type": "code",
      "source": [
        "global_function()"
      ],
      "metadata": {
        "id": "5PSyS13jMEeE"
      },
      "execution_count": 43,
      "outputs": []
    },
    {
      "cell_type": "code",
      "source": [
        "global_variable"
      ],
      "metadata": {
        "colab": {
          "base_uri": "https://localhost:8080/"
        },
        "id": "5DIICWYQL_Vg",
        "outputId": "bbf48ce1-790c-4233-d18b-ef9c3fdea550"
      },
      "execution_count": 44,
      "outputs": [
        {
          "output_type": "execute_result",
          "data": {
            "text/plain": [
              "20"
            ]
          },
          "metadata": {},
          "execution_count": 44
        }
      ]
    },
    {
      "cell_type": "markdown",
      "source": [
        "👉 In the above example, global_var is a global variable that can be accessed from any part of the program, including within functions. The modify_global_var() function modifies the value of global_var by adding 5️⃣ to it. To modify a global variable within a function, you need to use the global keyword before the variable name.\n",
        "\n",
        "👉 The use_local_var() function defines a local variable local_var within the function. This variable is only accessible within the function and cannot be accessed outside of it. When the function is called, it prints the value of local_var.\n",
        "\n",
        "👉 It is generally considered best practice to use local variables whenever possible, rather than global variables. This is because local variables have a smaller scope, meaning they are only accessible within the function where they are defined. This can help to prevent unintended changes to the variable value and make the code more modular.\n",
        "\n",
        "👉 On the other hand, global variables can be accessed and modified from any part of the program, which can make it harder to keep track of changes to the variable value. Additionally, if multiple functions or modules in a program use the same global variable, it can lead to naming conflicts and make the code harder to maintain.\n",
        "\n",
        "👉 However, there may be situations where using global variables is necessary. For example, if a variable needs to be accessed and modified by multiple functions or modules in a program, using a global variable may be the best option.\n",
        "\n",
        "\n",
        "\n"
      ],
      "metadata": {
        "id": "29slM6uUKei4"
      }
    },
    {
      "cell_type": "markdown",
      "source": [
        "##**Activity 2:**"
      ],
      "metadata": {
        "id": "4p2U39aoZ28J"
      }
    },
    {
      "cell_type": "markdown",
      "source": [
        "Write a function which takes a string arguments and returns the reversed string to the user.\n",
        "\n",
        "my_string = \"Hello, world!\""
      ],
      "metadata": {
        "id": "egdt4_tKG8MT"
      }
    },
    {
      "cell_type": "code",
      "source": [
        "def reverse_string(string_input):\n",
        "    \"\"\"\n",
        "    Reverses a given string using slicing and indexing concepts.\n",
        "\n",
        "    Args:\n",
        "        string_input (str): The string to reverse.\n",
        "\n",
        "    Returns:\n",
        "        str: The reversed string.\n",
        "    \"\"\"\n",
        "    reverse = string_input[::-1]\n",
        "    # Try out here\n",
        "    return reverse\n",
        "\n",
        "\n",
        "\n",
        "my_string = \"Hello, world!\"\n",
        "reverses_string=reverse_string(my_string)\n",
        "print(reverses_string)"
      ],
      "metadata": {
        "id": "wCLbC-ZoF_qW",
        "colab": {
          "base_uri": "https://localhost:8080/"
        },
        "outputId": "ba7a9637-45be-48dd-b9f3-428e7430cd9c"
      },
      "execution_count": 45,
      "outputs": [
        {
          "output_type": "stream",
          "name": "stdout",
          "text": [
            "!dlrow ,olleH\n"
          ]
        }
      ]
    },
    {
      "cell_type": "markdown",
      "source": [
        "##**🤔Do you know🤔**\n"
      ],
      "metadata": {
        "id": "5agx0fTVGfza"
      }
    },
    {
      "cell_type": "markdown",
      "source": [
        "\n",
        "It's important to note that default parameters should always come after non-default parameters in the function definition. So in the example above, x is a non-default parameter, while y is a default parameter. This is because Python assigns values to parameters based on their position in the argument list."
      ],
      "metadata": {
        "id": "5vxHUQOlH604"
      }
    },
    {
      "cell_type": "code",
      "source": [
        "# This is not allowed, since non-default parameter follows default parameter\n",
        "def my_function(y=10, x):\n",
        "    # do something with x and y\n",
        "   pass"
      ],
      "metadata": {
        "id": "XDBSFemaHzJc",
        "outputId": "69aa201f-5953-4f48-b0ea-9ecf3dbb472c",
        "colab": {
          "base_uri": "https://localhost:8080/",
          "height": 133
        }
      },
      "execution_count": 48,
      "outputs": [
        {
          "output_type": "error",
          "ename": "SyntaxError",
          "evalue": "ignored",
          "traceback": [
            "\u001b[0;36m  File \u001b[0;32m\"<ipython-input-48-dc3190fcf3d3>\"\u001b[0;36m, line \u001b[0;32m2\u001b[0m\n\u001b[0;31m    def my_function(y=10, x):\u001b[0m\n\u001b[0m                          ^\u001b[0m\n\u001b[0;31mSyntaxError\u001b[0m\u001b[0;31m:\u001b[0m non-default argument follows default argument\n"
          ]
        }
      ]
    },
    {
      "cell_type": "code",
      "source": [
        "def my_function(x,z,r,y=10,a=20,g=30):\n",
        "  pass"
      ],
      "metadata": {
        "id": "fZly-lziNWBu"
      },
      "execution_count": 49,
      "outputs": []
    },
    {
      "cell_type": "markdown",
      "source": [
        "Keep this in mind while designing your functions!"
      ],
      "metadata": {
        "id": "iYBa9Ko1GO7k"
      }
    },
    {
      "cell_type": "markdown",
      "source": [
        "###Got the hang of using custom functions? Easy and convenient right? Let's level up the game a bit. 😉"
      ],
      "metadata": {
        "id": "Bgr2eHW3HMaf"
      }
    },
    {
      "cell_type": "markdown",
      "source": [
        "##**Activity 3:**"
      ],
      "metadata": {
        "id": "F7cCA90oaiaP"
      }
    },
    {
      "cell_type": "markdown",
      "source": [
        "🏋️‍♀️💻📱: You are developing a fitness app and need a function to calculate calories burned. Users input workout duration and activity type (🏃‍♀️,🏊‍♂️,🚴‍♂️), and the function calculates calories burned.\n",
        "\n",
        "📝👨‍💻: Write a function that uses a while loop to calculate calories burned. The function takes workout duration and activity type as input and calculates calories burned based on the duration and activity type.\n",
        "\n",
        "Refer to following chart:\n",
        "Running- Burns 10 calories per minute\n",
        "Swimming- Burns 8 calories per minute\n",
        "Cycling- Burn 6 calories per minute"
      ],
      "metadata": {
        "id": "ygmUb83rIWTs"
      }
    },
    {
      "cell_type": "code",
      "source": [
        "def calculate_calories_burned(duration_mins, activity):\n",
        "    \"\"\"\n",
        "    Calculate the number of calories burned during a workout based on the activity and duration.\n",
        "\n",
        "    Args:\n",
        "        duration_mins (int): The duration of the workout in minutes.\n",
        "        activity (str): The type of activity performed during the workout. Can be \"running\", \"swimming\", or \"cycling\".\n",
        "\n",
        "    Returns:\n",
        "        tuple: details of your workout and total calorie burnt\n",
        "    \"\"\"\n",
        "\n",
        "    # Try out here\n",
        "    chart = {\n",
        "      \"running\": 10,\n",
        "      \"swimming\": 8,\n",
        "      \"cycling\": 6\n",
        "      }\n",
        "\n",
        "    # Initialize the fitness dictionary\n",
        "    fitness = {}\n",
        "\n",
        "    total_calories = 0\n",
        "\n",
        "    for exercise,calorie in chart.items():\n",
        "      if activity == exercise:\n",
        "        fitness[activity] = duration_mins\n",
        "        total_calories = int(total_calories) + int(duration_mins) * int(calorie)\n",
        "    return total_calories,fitness\n",
        "\n",
        "\n",
        "tot_cal,fitness_info = calculate_calories_burned(duration_mins = 20,activity = \"running\")"
      ],
      "metadata": {
        "id": "3tzomjiqFziW"
      },
      "execution_count": 50,
      "outputs": []
    },
    {
      "cell_type": "code",
      "source": [
        "tot_cal"
      ],
      "metadata": {
        "colab": {
          "base_uri": "https://localhost:8080/"
        },
        "id": "SbZV4njwPDsO",
        "outputId": "ca1cceb9-ebdf-48ee-df0a-8f7a907e58a9"
      },
      "execution_count": 51,
      "outputs": [
        {
          "output_type": "execute_result",
          "data": {
            "text/plain": [
              "200"
            ]
          },
          "metadata": {},
          "execution_count": 51
        }
      ]
    },
    {
      "cell_type": "code",
      "source": [
        "fitness_info"
      ],
      "metadata": {
        "colab": {
          "base_uri": "https://localhost:8080/"
        },
        "id": "f5KoDccPPF1e",
        "outputId": "574b7b38-637a-4b66-c86b-3fd32d0866a2"
      },
      "execution_count": 52,
      "outputs": [
        {
          "output_type": "execute_result",
          "data": {
            "text/plain": [
              "{'running': 20}"
            ]
          },
          "metadata": {},
          "execution_count": 52
        }
      ]
    },
    {
      "cell_type": "markdown",
      "source": [
        "### 🤔 Curious about the calories burnt for two activities?\n",
        "\n",
        "🔢 Try this out: calculate_calories_burned(20, \"running\") + calculate_calories_burned(20, \"swimming\")\n",
        "\n",
        "🔍 See how the function works!"
      ],
      "metadata": {
        "id": "gZea_hzgb-iH"
      }
    },
    {
      "cell_type": "code",
      "source": [
        "calculate_calories_burned(20, \"running\") + calculate_calories_burned(20, \"swimming\")"
      ],
      "metadata": {
        "colab": {
          "base_uri": "https://localhost:8080/"
        },
        "id": "qJFuWq5GTTbO",
        "outputId": "2c5fd1ca-7df8-4e01-a738-187416f07af6"
      },
      "execution_count": 53,
      "outputs": [
        {
          "output_type": "execute_result",
          "data": {
            "text/plain": [
              "(200, {'running': 20}, 160, {'swimming': 20})"
            ]
          },
          "metadata": {},
          "execution_count": 53
        }
      ]
    },
    {
      "cell_type": "markdown",
      "source": [
        "##**Activity 4:**"
      ],
      "metadata": {
        "id": "Gu_zKyyuJJRF"
      }
    },
    {
      "cell_type": "markdown",
      "source": [
        "📝 Problem Scenario:\n",
        "\n",
        "A bookstore wants to keep track of their inventory and generate a report of the books that need to be restocked. They want to create a custom function in Python to calculate the quantity of books to order for each title. They have a list of books and their current stock quantity. They want to calculate the quantity of books to order **such that the inventory of each books is at least 10**.\n",
        "The function takes a dictionary of book titles as keys and current stock as values, as the input and should return a dictionary consisting of title as the key and number of books to be ordered as the value."
      ],
      "metadata": {
        "id": "ESRBcKYKJV8p"
      }
    },
    {
      "cell_type": "code",
      "source": [
        "# Here's the list of books.\n",
        "books_stock = {\n",
        "    \"Harry Potter\": 10,\n",
        "    \"Lord of the Rings\": 5,\n",
        "    \"Game of Thrones\": 2,\n",
        "    \"The Hunger Games\": 8,\n",
        "    \"To Kill a Mockingbird\": 4\n",
        "}\n",
        "\n"
      ],
      "metadata": {
        "id": "wOJ8O997Kexg"
      },
      "execution_count": 55,
      "outputs": []
    },
    {
      "cell_type": "code",
      "source": [
        "def calculate_books_to_order(books):\n",
        "    \"\"\"\n",
        "    Calculates the number of books to order for each title based on the current stock.\n",
        "\n",
        "    Args:\n",
        "        books (dict): A dictionary containing the titles and current stock of each book.\n",
        "\n",
        "    Returns:\n",
        "        dict: A dictionary containing the titles of the books that need to be ordered and the number of copies to order.\n",
        "    \"\"\"\n",
        "    # Try out here.\n",
        "    new_books = {}\n",
        "    for book,qty in books.items():\n",
        "      if qty <= 10:\n",
        "        new_books[book] = 10 - qty\n",
        "    return new_books\n",
        "\n",
        "\n",
        "calculate_books_to_order(books_stock)"
      ],
      "metadata": {
        "id": "u2hRjxOhMbkf",
        "colab": {
          "base_uri": "https://localhost:8080/"
        },
        "outputId": "2866e38e-020d-4967-ce62-587864113f21"
      },
      "execution_count": 56,
      "outputs": [
        {
          "output_type": "execute_result",
          "data": {
            "text/plain": [
              "{'Harry Potter': 0,\n",
              " 'Lord of the Rings': 5,\n",
              " 'Game of Thrones': 8,\n",
              " 'The Hunger Games': 2,\n",
              " 'To Kill a Mockingbird': 6}"
            ]
          },
          "metadata": {},
          "execution_count": 56
        }
      ]
    },
    {
      "cell_type": "code",
      "source": [
        "def test():\n",
        "  test()\n",
        "  pass"
      ],
      "metadata": {
        "id": "1blkOXbgQpA_"
      },
      "execution_count": 57,
      "outputs": []
    },
    {
      "cell_type": "markdown",
      "source": [
        "##**Recursion 🔃🔃🔃**"
      ],
      "metadata": {
        "id": "A8uXqlXGcIyH"
      }
    },
    {
      "cell_type": "markdown",
      "source": [
        "Recursion is a 👊 powerful concept in programming where a function calls itself from within its own 💻. In Python, recursion is often used to solve problems that can be broken down into smaller, similar problems.\n",
        "\n",
        "In a recursive function, the function is called with a parameter that is gradually reduced or changed until it reaches a 🧱 base case that can be directly solved. The base case is the simplest possible case that the function can solve without calling itself.\n",
        "\n",
        "Recursive functions can be used to solve problems like traversing a tree, searching through a list, or finding the factorial of a number 🧮. However, it's important to be careful when using recursion, as it can lead to infinite loops or stack overflow errors if not implemented correctly.\n",
        "\n",
        "\n",
        "\n"
      ],
      "metadata": {
        "id": "kZh3TVMBdJU6"
      }
    },
    {
      "cell_type": "markdown",
      "source": [
        "Here's an example:"
      ],
      "metadata": {
        "id": "vejZn4mte5Oy"
      }
    },
    {
      "cell_type": "code",
      "source": [
        "def factorial(n=0):\n",
        "    \"\"\"\n",
        "    Calculates the factorial of a non-negative integer.\n",
        "\n",
        "    Args:\n",
        "        n (int): A non-negative integer to calculate the factorial of.\n",
        "\n",
        "    Returns:\n",
        "        int: The factorial of the input integer.\n",
        "    \"\"\"\n",
        "    # Base case: if n is 0, the factorial is 1\n",
        "    if n == 0:\n",
        "        return 1\n",
        "    # Recursive case: multiply n by the factorial of n-1\n",
        "    else:\n",
        "        return n * factorial(n-1)\n"
      ],
      "metadata": {
        "id": "15Etd8lqe4RI"
      },
      "execution_count": 58,
      "outputs": []
    },
    {
      "cell_type": "markdown",
      "source": [
        "In this function, we check for the base case where n is equal to 0. If it is, we return 1 since the factorial of 0 is 1. If n is not 0, we return n multiplied by the factorial of n-1. This will recursively call the factorial() function with n-1 until it reaches the base case.\n",
        "\n",
        "For example, if we call factorial(4), it will first return 4 * factorial(3), which will in turn return 4 * 3 * factorial(2), and so on, until it reaches factorial(0) which will return 1. Then the previous function calls will be resolved as shown below:\n",
        "\n",
        "\n",
        "factorial(4) = 4 * factorial(3) = 4 * 3 * factorial(2) = 4 * 3 * 2 * factorial(1) = 4 * 3 * 2 * 1 * factorial(0) = 4 * 3 * 2 * 1 * 1 = 24\n"
      ],
      "metadata": {
        "id": "bcokLYdzfB1h"
      }
    },
    {
      "cell_type": "code",
      "source": [
        "factorial(4)"
      ],
      "metadata": {
        "colab": {
          "base_uri": "https://localhost:8080/"
        },
        "id": "si4S1PKXfBdq",
        "outputId": "e255f96b-76fb-4f01-952d-2c6ff67deca6"
      },
      "execution_count": null,
      "outputs": [
        {
          "output_type": "execute_result",
          "data": {
            "text/plain": [
              "24"
            ]
          },
          "metadata": {},
          "execution_count": 43
        }
      ]
    },
    {
      "cell_type": "markdown",
      "source": [
        "##**Activity 5:**\n"
      ],
      "metadata": {
        "id": "isMrZUCIgqzp"
      }
    },
    {
      "cell_type": "markdown",
      "source": [
        "Problem: Write a Python function that takes a positive integer n as input and returns the nth number in the Fibonacci sequence. The Fibonacci sequence is defined as follows:\n",
        "\n",
        "* The 0th number in the sequence is 0.\n",
        "* The 1st number in the sequence is 1.\n",
        "* For all n > 1, the nth number in the sequence is the sum of the (n-1)th and (n-2)th numbers in the sequence.\n",
        "\n",
        "* For example, the first few numbers in the Fibonacci sequence are:\n",
        "0, 1, 1, 2, 3, 5, 8, 13, 21, 34, 55, ...\n"
      ],
      "metadata": {
        "id": "aiXDKA23gwoy"
      }
    },
    {
      "cell_type": "code",
      "source": [
        "def fibonacci_sequence(n):\n",
        "    \"\"\"\n",
        "    Generates the Fibonacci sequence up to the n-th term.\n",
        "\n",
        "    Args:\n",
        "        n (int): The number of terms to generate in the sequence.\n",
        "\n",
        "    Returns:\n",
        "        list: A list containing the first n terms of the Fibonacci sequence.\n",
        "    \"\"\"\n",
        "\n",
        "    # Try out here:\n",
        "    if n <= 0:\n",
        "        return(\"Input should be a positive integer.\")\n",
        "    if n == 1 or n == 2:\n",
        "        return 1\n",
        "    else:\n",
        "        return fibonacci_sequence(n - 1) + fibonacci_sequence(n - 2)\n"
      ],
      "metadata": {
        "id": "dyRPhuGEhBoQ"
      },
      "execution_count": 61,
      "outputs": []
    },
    {
      "cell_type": "code",
      "source": [
        "fibonacci_sequence(5)"
      ],
      "metadata": {
        "colab": {
          "base_uri": "https://localhost:8080/"
        },
        "id": "XVFspNvYJq7I",
        "outputId": "cbaf33ed-9a74-415f-eb35-67b8a31679f1"
      },
      "execution_count": 62,
      "outputs": [
        {
          "output_type": "execute_result",
          "data": {
            "text/plain": [
              "5"
            ]
          },
          "metadata": {},
          "execution_count": 62
        }
      ]
    },
    {
      "cell_type": "code",
      "source": [
        "def fibonacci(n):\n",
        "    if n <= 0:\n",
        "        print(\"Input should be a positive integer.\")\n",
        "\n",
        "    if n == 1:\n",
        "        return [1]\n",
        "    if n == 2:\n",
        "        return [1, 1]\n",
        "\n",
        "    sequence = [1, 1]\n",
        "    for i in range(2, n):\n",
        "        next_number = sequence[i - 1] + sequence[i - 2]\n",
        "        sequence.append(next_number)\n",
        "    return sequence\n",
        "\n",
        "n = 6\n",
        "result = fibonacci(n)\n",
        "print(\"The first {} numbers in the Fibonacci sequence are: {}\".format(n, result))\n"
      ],
      "metadata": {
        "id": "oZ8wmmspK4sp",
        "outputId": "df967be7-5098-41d8-d4d8-09810831e7d9",
        "colab": {
          "base_uri": "https://localhost:8080/"
        }
      },
      "execution_count": 65,
      "outputs": [
        {
          "output_type": "stream",
          "name": "stdout",
          "text": [
            "The first 6 numbers in the Fibonacci sequence are: [1, 1, 2, 3, 5, 8]\n"
          ]
        }
      ]
    },
    {
      "cell_type": "markdown",
      "source": [
        "# **✅ Summary ✅**"
      ],
      "metadata": {
        "id": "EG5btUz0OA3Y"
      }
    },
    {
      "cell_type": "markdown",
      "source": [
        "##What did you learn:\n",
        "\n",
        "Custom functions in Python are a way to group together instructions or algorithms to perform a specific task or operation. They offer modularity, abstraction, encapsulation, reusability, and parameterization, which simplifies writing, managing, and debugging code. Functions can be tailored to accommodate various input parameters and can be used across several programs or scripts. Through custom functions, developers can create more efficient, reusable ♻️, and adaptable 💪 code.\n",
        "\n",
        "\n",
        "\n",
        "\n",
        "\n",
        "\n",
        "\n",
        "\n",
        "\n",
        "\n",
        "\n",
        "\n",
        "\n"
      ],
      "metadata": {
        "id": "eVr09ThVOInZ"
      }
    },
    {
      "cell_type": "markdown",
      "source": [
        "# **➕ Additional Reading ➕**"
      ],
      "metadata": {
        "id": "XX9n6caJQH1_"
      }
    },
    {
      "cell_type": "markdown",
      "source": [
        "##**Additional Practice Problems.**"
      ],
      "metadata": {
        "id": "TyGgEEWJHvcv"
      }
    },
    {
      "cell_type": "markdown",
      "source": [
        "\n",
        "\n",
        "1. **A teacher wants to create a Python function to grade a multiple-choice test. The function should take one argument: a list of answers given by a student. The function should compare the answers given by the student with the predefined answer key and return the score obtained. Each correct answer is worth 1 point, and each incorrect  answer is worth 0 points.**"
      ],
      "metadata": {
        "id": "QacdQLFGjz9G"
      }
    },
    {
      "cell_type": "code",
      "source": [
        "# Here is the answer key\n",
        "answer_key = [\"A\", \"B\", \"C\", \"D\", \"E\"]\n",
        "\n",
        "# Here are the student's answers\n",
        "student_answers = [\"A\", \"C\", \"A\", \"D\", \"E\"]"
      ],
      "metadata": {
        "id": "Ni7WUHgRMkDC"
      },
      "execution_count": 68,
      "outputs": []
    },
    {
      "cell_type": "code",
      "source": [
        "# Try out here"
      ],
      "metadata": {
        "id": "BxJtYXjHNSRu"
      },
      "execution_count": 69,
      "outputs": []
    },
    {
      "cell_type": "code",
      "source": [
        "def grade_test(student_answers):\n",
        "    \"\"\"\n",
        "    Grades a test based on the student's answers and an answer key.\n",
        "\n",
        "    Args:\n",
        "        student_answers (list): A list of the student's answers to the test questions.\n",
        "\n",
        "    Returns:\n",
        "        int: The student's score on the test.\n",
        "    \"\"\"\n",
        "    answer_key = [\"A\", \"B\", \"C\", \"D\", \"E\"]\n",
        "    score = 0\n",
        "\n",
        "    # Loop through each answer and compare it to the corresponding answer in the answer key\n",
        "    for i in range(len(student_answers)):\n",
        "        if student_answers[i] == answer_key[i]:\n",
        "            score += 1  # Increment the score if the answer is correct\n",
        "        else:\n",
        "            score += 0  # No change in score if the answer is incorrect\n",
        "\n",
        "    return score\n"
      ],
      "metadata": {
        "id": "eW3rE3SnMY-A"
      },
      "execution_count": 70,
      "outputs": []
    },
    {
      "cell_type": "code",
      "source": [
        "# Grade the test and print the score\n",
        "score = grade_test(student_answers)\n",
        "print(score)"
      ],
      "metadata": {
        "colab": {
          "base_uri": "https://localhost:8080/"
        },
        "id": "XYfW4Zo_MrQF",
        "outputId": "79f9cc95-c616-4b03-b620-c5b3222bfd8e"
      },
      "execution_count": 71,
      "outputs": [
        {
          "output_type": "stream",
          "name": "stdout",
          "text": [
            "3\n"
          ]
        }
      ]
    },
    {
      "cell_type": "markdown",
      "source": [
        "2. **Write a function that takes a list of integers as input and returns the sum of the squares of the even numbers in the list.**"
      ],
      "metadata": {
        "id": "d2_4Xun7allS"
      }
    },
    {
      "cell_type": "code",
      "source": [
        "def sum_of_even_squares(lst):\n",
        "   \"\"\"\n",
        "    Calculates the sum of the squares of all even numbers in a list.\n",
        "\n",
        "    Args:\n",
        "        lst (list): A list of numbers.\n",
        "\n",
        "    Returns:\n",
        "        int: The sum of the squares of all even numbers in the list.\n",
        "    \"\"\"\n",
        "  total = 0\n",
        "  for num in lst:\n",
        "    if num % 2 == 0:\n",
        "        total += num ** 2\n",
        "return total"
      ],
      "metadata": {
        "id": "hGd1rOc3bO9v",
        "outputId": "b82711c9-174f-41a6-888d-60b3f2cafd6b",
        "colab": {
          "base_uri": "https://localhost:8080/",
          "height": 133
        }
      },
      "execution_count": 75,
      "outputs": [
        {
          "output_type": "error",
          "ename": "IndentationError",
          "evalue": "ignored",
          "traceback": [
            "\u001b[0;36m  File \u001b[0;32m\"<ipython-input-75-8ea2fe0d104f>\"\u001b[0;36m, line \u001b[0;32m11\u001b[0m\n\u001b[0;31m    total = 0\u001b[0m\n\u001b[0m    ^\u001b[0m\n\u001b[0;31mIndentationError\u001b[0m\u001b[0;31m:\u001b[0m unexpected indent\n"
          ]
        }
      ]
    },
    {
      "cell_type": "code",
      "source": [
        "numbers = [1, 2, 3, 4, 5, 6, 7, 8, 9, 10]\n",
        "even_squares_sum = sum_of_even_squares(numbers)\n",
        "print(even_squares_sum)"
      ],
      "metadata": {
        "colab": {
          "base_uri": "https://localhost:8080/",
          "height": 205
        },
        "id": "_Pzi7zpKbncO",
        "outputId": "6c3eef1a-d804-49ab-b259-10b8d1b002f7"
      },
      "execution_count": 76,
      "outputs": [
        {
          "output_type": "error",
          "ename": "NameError",
          "evalue": "ignored",
          "traceback": [
            "\u001b[0;31m---------------------------------------------------------------------------\u001b[0m",
            "\u001b[0;31mNameError\u001b[0m                                 Traceback (most recent call last)",
            "\u001b[0;32m<ipython-input-76-44804d4d45ba>\u001b[0m in \u001b[0;36m<cell line: 2>\u001b[0;34m()\u001b[0m\n\u001b[1;32m      1\u001b[0m \u001b[0mnumbers\u001b[0m \u001b[0;34m=\u001b[0m \u001b[0;34m[\u001b[0m\u001b[0;36m1\u001b[0m\u001b[0;34m,\u001b[0m \u001b[0;36m2\u001b[0m\u001b[0;34m,\u001b[0m \u001b[0;36m3\u001b[0m\u001b[0;34m,\u001b[0m \u001b[0;36m4\u001b[0m\u001b[0;34m,\u001b[0m \u001b[0;36m5\u001b[0m\u001b[0;34m,\u001b[0m \u001b[0;36m6\u001b[0m\u001b[0;34m,\u001b[0m \u001b[0;36m7\u001b[0m\u001b[0;34m,\u001b[0m \u001b[0;36m8\u001b[0m\u001b[0;34m,\u001b[0m \u001b[0;36m9\u001b[0m\u001b[0;34m,\u001b[0m \u001b[0;36m10\u001b[0m\u001b[0;34m]\u001b[0m\u001b[0;34m\u001b[0m\u001b[0;34m\u001b[0m\u001b[0m\n\u001b[0;32m----> 2\u001b[0;31m \u001b[0meven_squares_sum\u001b[0m \u001b[0;34m=\u001b[0m \u001b[0msum_of_even_squares\u001b[0m\u001b[0;34m(\u001b[0m\u001b[0mnumbers\u001b[0m\u001b[0;34m)\u001b[0m\u001b[0;34m\u001b[0m\u001b[0;34m\u001b[0m\u001b[0m\n\u001b[0m\u001b[1;32m      3\u001b[0m \u001b[0mprint\u001b[0m\u001b[0;34m(\u001b[0m\u001b[0meven_squares_sum\u001b[0m\u001b[0;34m)\u001b[0m\u001b[0;34m\u001b[0m\u001b[0;34m\u001b[0m\u001b[0m\n",
            "\u001b[0;31mNameError\u001b[0m: name 'sum_of_even_squares' is not defined"
          ]
        }
      ]
    },
    {
      "cell_type": "markdown",
      "source": [
        "3. **Write a function that takes a string as input and returns a new string with all vowels removed.**"
      ],
      "metadata": {
        "id": "VrK-FEkAbeAz"
      }
    },
    {
      "cell_type": "code",
      "source": [
        "def remove_vowels(string):\n",
        "\n",
        "    vowels = \"aeiouAEIOU\"\n",
        "    new_string = \"\"\n",
        "    for char in string:\n",
        "        if char not in vowels:\n",
        "            new_string += char\n",
        "    return new_string"
      ],
      "metadata": {
        "id": "jUOaRY-rbgos"
      },
      "execution_count": 79,
      "outputs": []
    },
    {
      "cell_type": "code",
      "source": [
        "my_string = \"Hello, World!\"\n",
        "no_vowels_string = remove_vowels(my_string)\n",
        "print(no_vowels_string)"
      ],
      "metadata": {
        "colab": {
          "base_uri": "https://localhost:8080/"
        },
        "id": "4pR9UOTXbvpS",
        "outputId": "94573f29-2994-4f2b-ad9a-8a72f05f9cb2"
      },
      "execution_count": 80,
      "outputs": [
        {
          "output_type": "stream",
          "name": "stdout",
          "text": [
            "Hll, Wrld!\n"
          ]
        }
      ]
    },
    {
      "cell_type": "markdown",
      "source": [
        "4. **Write a function that takes a list of strings as input and returns a new list with all strings in uppercase.**"
      ],
      "metadata": {
        "id": "JSsuJSPZb3qI"
      }
    },
    {
      "cell_type": "code",
      "source": [
        "def uppercase_list(lst):\n",
        "  \"\"\"\n",
        "  Converts all strings in a list to uppercase.\n",
        "\n",
        "  Args:\n",
        "      lst (list): A list of strings.\n",
        "\n",
        "  Returns:\n",
        "      list: A new list with all strings in uppercase.\n",
        "  \"\"\"\n",
        "  new_list = []\n",
        "  for string in lst:\n",
        "      new_list.append(string.upper())\n",
        "  return new_list"
      ],
      "metadata": {
        "id": "MPzdlrBrb6FB"
      },
      "execution_count": 83,
      "outputs": []
    },
    {
      "cell_type": "code",
      "source": [
        "words = [\"apple\", \"banana\", \"cherry\", \"date\"]\n",
        "upper_words = uppercase_list(words)\n",
        "print(upper_words)"
      ],
      "metadata": {
        "colab": {
          "base_uri": "https://localhost:8080/"
        },
        "id": "O7MiUD-KcL2I",
        "outputId": "645c608b-2f67-4ecf-dcb4-01d9e47cc9b0"
      },
      "execution_count": 84,
      "outputs": [
        {
          "output_type": "stream",
          "name": "stdout",
          "text": [
            "['APPLE', 'BANANA', 'CHERRY', 'DATE']\n"
          ]
        }
      ]
    },
    {
      "cell_type": "markdown",
      "source": [
        "5. **Write a function that takes a dictionary as input and returns a new dictionary with the same keys but with all values squared.**"
      ],
      "metadata": {
        "id": "ndYA3rZVcGmk"
      }
    },
    {
      "cell_type": "code",
      "source": [
        "def square_dict_values(dct):\n",
        "    \"\"\"\n",
        "    Given a dictionary, returns a new dictionary with the same keys as the input dictionary, but with the values squared.\n",
        "\n",
        "    Args:\n",
        "    - dct: A dictionary with numeric values.\n",
        "\n",
        "    Returns:\n",
        "    - A new dictionary with the same keys as the input dictionary, but with the values squared.\n",
        "    \"\"\"\n",
        "    new_dict = {}\n",
        "    for key, value in dct.items():\n",
        "        new_dict[key] = value ** 2\n",
        "    return new_dict"
      ],
      "metadata": {
        "id": "heabV2jucI_5"
      },
      "execution_count": 85,
      "outputs": []
    },
    {
      "cell_type": "code",
      "source": [
        "my_dict = {\"a\": 1, \"b\": 2, \"c\": 3, \"d\": 4}\n",
        "squared_dict = square_dict_values(my_dict)\n",
        "print(squared_dict)"
      ],
      "metadata": {
        "colab": {
          "base_uri": "https://localhost:8080/"
        },
        "id": "Wkbxt_ewcYb1",
        "outputId": "9ee128e6-9be1-46e7-bd4b-1490d92f38f3"
      },
      "execution_count": 86,
      "outputs": [
        {
          "output_type": "stream",
          "name": "stdout",
          "text": [
            "{'a': 1, 'b': 4, 'c': 9, 'd': 16}\n"
          ]
        }
      ]
    },
    {
      "cell_type": "markdown",
      "source": [
        "6. **Write a function reverse_string that takes a string as input and returns the string reversed**"
      ],
      "metadata": {
        "id": "mpewuUOEdEEF"
      }
    },
    {
      "cell_type": "code",
      "source": [
        "def reverse_string(string):\n",
        "    \"\"\"\n",
        "    Return a reversed version of the input string.\n",
        "    \"\"\"\n",
        "    reversed_string = \"\"\n",
        "    for i in range(len(string)-1, -1, -1):  # Loop over the string in reverse order\n",
        "        reversed_string += string[i]  # Add each character to the reversed string\n",
        "    return reversed_string\n",
        "\n",
        "\n",
        "my_string = \"Hello, World!\"\n",
        "reversed_string = reverse_string(my_string)\n",
        "print(reversed_string)"
      ],
      "metadata": {
        "colab": {
          "base_uri": "https://localhost:8080/"
        },
        "id": "lAgBVJaQdHp9",
        "outputId": "7e3dcfb4-ac78-451d-e00d-6aba10d5341c"
      },
      "execution_count": 87,
      "outputs": [
        {
          "output_type": "stream",
          "name": "stdout",
          "text": [
            "!dlroW ,olleH\n"
          ]
        }
      ]
    },
    {
      "cell_type": "markdown",
      "source": [
        "##**Mnemonic**\n",
        "\n",
        "\n",
        "Once upon a time, there was a 💻 programmer named Sarah who was working on a project that required a lot of repetitive tasks. She realized that writing the same code over and over again was not only ⏰time-consuming but also prone to errors.\n",
        "\n",
        "So Sarah decided to create custom functions in Python to automate the repetitive tasks. She started by identifying the common patterns in the code and breaking them down into separate functions. She gave each function a clear name that reflected its purpose, making it easier to understand and maintain.\n",
        "\n",
        "🧱 Sarah's custom functions allowed her to modularize her code and avoid duplicating it. She was able to write more efficient and readable code, as she could reuse the same functions across multiple parts of her program.\n",
        "\n",
        "With her custom functions, Sarah was also able to abstract away the complexity of the code, making it easier to understand and reason about. She parameterized her functions to make them adaptable to different inputs, giving her more flexibility and allowing her to create more reusable code.\n",
        "\n",
        "Thanks to her custom functions, Sarah was able to complete her project on time and with fewer errors. She also realized that by creating reusable functions, she had made her code more adaptable for future projects. Sarah learned that creating custom functions was an essential skill for any 💻 programmer who wants to write efficient, readable, and maintainable code.\n",
        "\n",
        "\n",
        "\n",
        "\n"
      ],
      "metadata": {
        "id": "8WacSKM3P5Yt"
      }
    },
    {
      "cell_type": "markdown",
      "source": [
        "##**Best Practices/Tips**\n",
        "\n",
        "1. 🔍 Keep your functions small and focused: Each function should have a single responsibility, making it easier to read, understand, and test.\n",
        "2. 🏷️ Use clear and descriptive names: Choose a name that accurately reflects what the function does, making it easier to use and maintain.\n",
        "3. 📝 Write docstrings: Use docstrings to describe the purpose, input parameters, and output of your function. This makes it easier for other developers to understand and use your code.\n",
        "4. 🛡️ Use default arguments: Use default arguments to make your functions more flexible and adaptable to different use cases.\n",
        "5. 🚫 Avoid global variables: Global variables can make it harder to debug and maintain your code. Instead, pass all necessary data as input parameters.\n",
        "6. 🙅‍♀️ Avoid side effects: A function should not modify any variables outside of its scope or have any side effects. This can make your code harder to reason about and debug.\n",
        "7. ✅ Test your functions: Create test cases for your functions to ensure that they work as expected and handle edge cases correctly.\n",
        "8. 🔁 Be consistent: Follow a consistent style throughout your code, including naming conventions, formatting, and variable naming.\n",
        "\n",
        "\n",
        "\n",
        "\n"
      ],
      "metadata": {
        "id": "xXd3kn7VQVrh"
      }
    },
    {
      "cell_type": "markdown",
      "source": [
        "##**Shortcomings**\n",
        "1. 🐌 Performance overhead: Depending on the complexity of the function and the amount of data being processed, using a custom function can sometimes result in slower execution times than writing the code inline.\n",
        "\n",
        "2. 👀 Abstraction can be a double-edged sword: While abstraction can help make your code more modular and easier to understand, it can also make it harder to see the underlying implementation details and performance implications.\n",
        "\n",
        "3. 🕸️ Dependencies and compatibility issues: If you're using custom functions from external libraries or packages, you may run into issues with compatibility or versioning.\n",
        "\n",
        "4. 🤖 Debugging can be tricky: If you're using a lot of custom functions in your code, it can be challenging to debug errors or trace the flow of data through your program.\n",
        "\n",
        "5. 🧪 Testing can be time-consuming: Creating robust test cases for your custom functions can be time-consuming, but it's crucial to ensure that your code is working as expected.\n",
        "\n",
        "\n",
        "\n",
        "\n",
        "\n",
        "\n",
        "\n",
        "\n",
        "\n",
        "\n",
        "\n",
        "\n",
        "\n"
      ],
      "metadata": {
        "id": "imIg9fjFQiPu"
      }
    }
  ]
}